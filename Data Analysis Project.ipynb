{
 "cells": [
  {
   "cell_type": "code",
   "execution_count": 1,
   "id": "6a34c1f0",
   "metadata": {},
   "outputs": [],
   "source": [
    "import pandas as pd\n",
    "import numpy as np\n",
    "from sklearn.preprocessing import OneHotEncoder\n",
    "from sklearn.model_selection import train_test_split\n",
    "from sklearn.feature_selection import VarianceThreshold\n",
    "from sklearn.utils import resample\n",
    "from sklearn.experimental import enable_iterative_imputer\n",
    "from sklearn.impute import IterativeImputer\n",
    "from pyspark.mllib.evaluation import BinaryClassificationMetrics\n",
    "import matplotlib.pyplot as plt\n",
    "pd.set_option('display.max_columns', None)\n",
    "pd.set_option('display.max_rows', None)"
   ]
  },
  {
   "cell_type": "code",
   "execution_count": 2,
   "id": "01f4a265",
   "metadata": {},
   "outputs": [
    {
     "name": "stderr",
     "output_type": "stream",
     "text": [
      "/var/folders/6d/_t56tgqs5rb4zjpyv64nnjvc0000gn/T/ipykernel_1381/963208562.py:1: DtypeWarning: Columns (18,29,38,40,41,42) have mixed types. Specify dtype option on import or set low_memory=False.\n",
      "  df = pd.read_csv(r\"/Users/tsaichao-yi/Downloads/Parking_Violations_Issued_-_Fiscal_Year_2015.csv\")\n"
     ]
    }
   ],
   "source": [
    "df = pd.read_csv(r'/Users/tsaichao-yi/Downloads/Parking_Violations_Issued_-_Fiscal_Year_2015.csv')  "
   ]
  },
  {
   "cell_type": "markdown",
   "id": "8d4af55d",
   "metadata": {},
   "source": [
    "The first step is removing variables with more than 30% missing values since any imputation method could not provide a reliable result."
   ]
  },
  {
   "cell_type": "code",
   "execution_count": 3,
   "id": "403688c3",
   "metadata": {},
   "outputs": [],
   "source": [
    "def missing(df):\n",
    "    percent_missing = df.isnull().sum() * 100 / len(df)\n",
    "    missing_value_df = pd.DataFrame({'column_name': df.columns, 'percent_missing': percent_missing})\n",
    "    return missing_value_df\n",
    "lost = missing(df)['percent_missing'] > 0.3\n",
    "df1 = df[df.columns[~lost]]"
   ]
  },
  {
   "cell_type": "markdown",
   "id": "25cd7ef0",
   "metadata": {},
   "source": [
    "Here, I deleted several noninformative variables and extracted the partitions of attributes as the new ones, including 'Issue Year', 'Issue Day', 'Vehicle Expiration Year', 'Violation Hour', and 'Violation Minute'. Then, I replaced the outliers in features with null values. These will be imputed later.  "
   ]
  },
  {
   "cell_type": "code",
   "execution_count": 4,
   "id": "1d357a0f",
   "metadata": {
    "scrolled": true
   },
   "outputs": [
    {
     "name": "stderr",
     "output_type": "stream",
     "text": [
      "/var/folders/6d/_t56tgqs5rb4zjpyv64nnjvc0000gn/T/ipykernel_1381/1498659404.py:2: SettingWithCopyWarning: \n",
      "A value is trying to be set on a copy of a slice from a DataFrame.\n",
      "Try using .loc[row_indexer,col_indexer] = value instead\n",
      "\n",
      "See the caveats in the documentation: https://pandas.pydata.org/pandas-docs/stable/user_guide/indexing.html#returning-a-view-versus-a-copy\n",
      "  df1['Violation Hour'] =  pd.Series([(int(w) if 0<=int(w)<=24 else np.NaN) if w.isdigit() else np.NaN for w in pre_hour])\n",
      "/var/folders/6d/_t56tgqs5rb4zjpyv64nnjvc0000gn/T/ipykernel_1381/1498659404.py:4: SettingWithCopyWarning: \n",
      "A value is trying to be set on a copy of a slice from a DataFrame.\n",
      "Try using .loc[row_indexer,col_indexer] = value instead\n",
      "\n",
      "See the caveats in the documentation: https://pandas.pydata.org/pandas-docs/stable/user_guide/indexing.html#returning-a-view-versus-a-copy\n",
      "  df1['Violation Minute'] = pd.Series([(int(w) if 0<=int(w)<=60 else np.NaN) if w.isdigit() else np.NaN for w in pre_minute])\n",
      "/var/folders/6d/_t56tgqs5rb4zjpyv64nnjvc0000gn/T/ipykernel_1381/1498659404.py:5: SettingWithCopyWarning: \n",
      "A value is trying to be set on a copy of a slice from a DataFrame.\n",
      "Try using .loc[row_indexer,col_indexer] = value instead\n",
      "\n",
      "See the caveats in the documentation: https://pandas.pydata.org/pandas-docs/stable/user_guide/indexing.html#returning-a-view-versus-a-copy\n",
      "  df1['Issue Day'] = pd.Series([int(w[:2]) for w in list(df1['Issue Date'])])\n",
      "/var/folders/6d/_t56tgqs5rb4zjpyv64nnjvc0000gn/T/ipykernel_1381/1498659404.py:6: SettingWithCopyWarning: \n",
      "A value is trying to be set on a copy of a slice from a DataFrame.\n",
      "Try using .loc[row_indexer,col_indexer] = value instead\n",
      "\n",
      "See the caveats in the documentation: https://pandas.pydata.org/pandas-docs/stable/user_guide/indexing.html#returning-a-view-versus-a-copy\n",
      "  df1['Issue Year'] = pd.Series([int(w[-4:]) for w in list(df1['Issue Date'])])\n",
      "/var/folders/6d/_t56tgqs5rb4zjpyv64nnjvc0000gn/T/ipykernel_1381/1498659404.py:7: SettingWithCopyWarning: \n",
      "A value is trying to be set on a copy of a slice from a DataFrame.\n",
      "Try using .loc[row_indexer,col_indexer] = value instead\n",
      "\n",
      "See the caveats in the documentation: https://pandas.pydata.org/pandas-docs/stable/user_guide/indexing.html#returning-a-view-versus-a-copy\n",
      "  df1['Vehicle Expiration Year'] = pd.Series([int(w[6:10]) for w in list(df1['Vehicle Expiration Date'])])\n",
      "/var/folders/6d/_t56tgqs5rb4zjpyv64nnjvc0000gn/T/ipykernel_1381/1498659404.py:8: SettingWithCopyWarning: \n",
      "A value is trying to be set on a copy of a slice from a DataFrame.\n",
      "Try using .loc[row_indexer,col_indexer] = value instead\n",
      "\n",
      "See the caveats in the documentation: https://pandas.pydata.org/pandas-docs/stable/user_guide/indexing.html#returning-a-view-versus-a-copy\n",
      "  df1.replace({'Vehicle Expiration Year' : { 8888 :  np.NaN, 1:np.NaN}}, inplace = True)\n",
      "/var/folders/6d/_t56tgqs5rb4zjpyv64nnjvc0000gn/T/ipykernel_1381/1498659404.py:9: SettingWithCopyWarning: \n",
      "A value is trying to be set on a copy of a slice from a DataFrame.\n",
      "Try using .loc[row_indexer,col_indexer] = value instead\n",
      "\n",
      "See the caveats in the documentation: https://pandas.pydata.org/pandas-docs/stable/user_guide/indexing.html#returning-a-view-versus-a-copy\n",
      "  df1.replace({'Vehicle Year': {0 : np.NaN}}, inplace = True)\n",
      "/var/folders/6d/_t56tgqs5rb4zjpyv64nnjvc0000gn/T/ipykernel_1381/1498659404.py:10: SettingWithCopyWarning: \n",
      "A value is trying to be set on a copy of a slice from a DataFrame\n",
      "\n",
      "See the caveats in the documentation: https://pandas.pydata.org/pandas-docs/stable/user_guide/indexing.html#returning-a-view-versus-a-copy\n",
      "  df1.drop(['Summons Number', 'Plate ID', 'Date First Observed', 'Violation Time', 'Issue Date', 'Vehicle Expiration Date'],\n"
     ]
    }
   ],
   "source": [
    "pre_hour = [str(w)[:2] for w in list(df1['Violation Time']) ]\n",
    "df1['Violation Hour'] =  pd.Series([(int(w) if 0<=int(w)<=24 else np.NaN) if w.isdigit() else np.NaN for w in pre_hour])\n",
    "pre_minute = [str(w)[2:4] for w in list(df1['Violation Time']) ]\n",
    "df1['Violation Minute'] = pd.Series([(int(w) if 0<=int(w)<=60 else np.NaN) if w.isdigit() else np.NaN for w in pre_minute])\n",
    "df1['Issue Day'] = pd.Series([int(w[:2]) for w in list(df1['Issue Date'])])\n",
    "df1['Issue Year'] = pd.Series([int(w[-4:]) for w in list(df1['Issue Date'])])\n",
    "df1['Vehicle Expiration Year'] = pd.Series([int(w[6:10]) for w in list(df1['Vehicle Expiration Date'])])\n",
    "df1.replace({'Vehicle Expiration Year' : { 8888 :  np.NaN, 1:np.NaN}}, inplace = True)\n",
    "df1.replace({'Vehicle Year': {0 : np.NaN}}, inplace = True)\n",
    "df1.drop(['Summons Number', 'Plate ID', 'Date First Observed', 'Violation Time', 'Issue Date', 'Vehicle Expiration Date'], \n",
    "         axis=1, inplace = True)"
   ]
  },
  {
   "cell_type": "markdown",
   "id": "af6abb80",
   "metadata": {},
   "source": [
    "The following list indicates the number of unique classes in each categorical variable. Due to the vast number of observations, most of them would be converted to dummy variables using the label encoding."
   ]
  },
  {
   "cell_type": "code",
   "execution_count": 5,
   "id": "47933801",
   "metadata": {},
   "outputs": [
    {
     "name": "stdout",
     "output_type": "stream",
     "text": [
      "Registration State 69\n",
      "Plate Type 88\n",
      "Violation Code 100\n",
      "Issuing Agency 19\n",
      "Street Code1 6466\n",
      "Street Code2 6834\n",
      "Street Code3 6707\n",
      "Violation Precinct 525\n",
      "Issuer Precinct 731\n",
      "Issuer Code 38789\n",
      "Street Name 110543\n",
      "Law Section 5\n",
      "Sub Division 141\n",
      "Vehicle Year 100\n",
      "Feet From Curb 18\n",
      "Violation Hour 24\n",
      "Violation Minute 61\n",
      "Issue Day 12\n",
      "Issue Year 20\n",
      "Vehicle Expiration Year 68\n"
     ]
    }
   ],
   "source": [
    "for i in df1.columns:\n",
    "    print(i, len(df1[i].unique()))"
   ]
  },
  {
   "cell_type": "markdown",
   "id": "fb237bb2",
   "metadata": {},
   "source": [
    "Categorical variables, such as ' Plate Type', 'Street Name', and 'Sub Division' were converted using label encoding. In contrast, variables' Registration State', 'Issuing Agency', and 'Law Section' was converted using one-hot encoding. The decision to use one-hot encoding or label encoding depends on the characteristics of the variables. For instance, if one attribute has hundreds of classes, it is better to use the latter even if the relationship between each class is not ordinal, as the data dimension would explode if the one-hot encoding is picked."
   ]
  },
  {
   "cell_type": "code",
   "execution_count": 6,
   "id": "263987fe",
   "metadata": {
    "scrolled": true
   },
   "outputs": [
    {
     "name": "stderr",
     "output_type": "stream",
     "text": [
      "/var/folders/6d/_t56tgqs5rb4zjpyv64nnjvc0000gn/T/ipykernel_1381/46990874.py:1: SettingWithCopyWarning: \n",
      "A value is trying to be set on a copy of a slice from a DataFrame.\n",
      "Try using .loc[row_indexer,col_indexer] = value instead\n",
      "\n",
      "See the caveats in the documentation: https://pandas.pydata.org/pandas-docs/stable/user_guide/indexing.html#returning-a-view-versus-a-copy\n",
      "  df1['Plate Type'] = df1['Plate Type'].astype('category')\n",
      "/var/folders/6d/_t56tgqs5rb4zjpyv64nnjvc0000gn/T/ipykernel_1381/46990874.py:2: SettingWithCopyWarning: \n",
      "A value is trying to be set on a copy of a slice from a DataFrame.\n",
      "Try using .loc[row_indexer,col_indexer] = value instead\n",
      "\n",
      "See the caveats in the documentation: https://pandas.pydata.org/pandas-docs/stable/user_guide/indexing.html#returning-a-view-versus-a-copy\n",
      "  df1['Plate Type'] = df1['Plate Type'].cat.codes\n",
      "/var/folders/6d/_t56tgqs5rb4zjpyv64nnjvc0000gn/T/ipykernel_1381/46990874.py:3: SettingWithCopyWarning: \n",
      "A value is trying to be set on a copy of a slice from a DataFrame.\n",
      "Try using .loc[row_indexer,col_indexer] = value instead\n",
      "\n",
      "See the caveats in the documentation: https://pandas.pydata.org/pandas-docs/stable/user_guide/indexing.html#returning-a-view-versus-a-copy\n",
      "  df1['Street Name'] = df1['Street Name'].astype('category')\n",
      "/var/folders/6d/_t56tgqs5rb4zjpyv64nnjvc0000gn/T/ipykernel_1381/46990874.py:4: SettingWithCopyWarning: \n",
      "A value is trying to be set on a copy of a slice from a DataFrame.\n",
      "Try using .loc[row_indexer,col_indexer] = value instead\n",
      "\n",
      "See the caveats in the documentation: https://pandas.pydata.org/pandas-docs/stable/user_guide/indexing.html#returning-a-view-versus-a-copy\n",
      "  df1['Street Name'] = df1['Street Name'].cat.codes\n",
      "/var/folders/6d/_t56tgqs5rb4zjpyv64nnjvc0000gn/T/ipykernel_1381/46990874.py:5: SettingWithCopyWarning: \n",
      "A value is trying to be set on a copy of a slice from a DataFrame.\n",
      "Try using .loc[row_indexer,col_indexer] = value instead\n",
      "\n",
      "See the caveats in the documentation: https://pandas.pydata.org/pandas-docs/stable/user_guide/indexing.html#returning-a-view-versus-a-copy\n",
      "  df1['Sub Division'] = df1['Sub Division'].astype('category')\n",
      "/var/folders/6d/_t56tgqs5rb4zjpyv64nnjvc0000gn/T/ipykernel_1381/46990874.py:6: SettingWithCopyWarning: \n",
      "A value is trying to be set on a copy of a slice from a DataFrame.\n",
      "Try using .loc[row_indexer,col_indexer] = value instead\n",
      "\n",
      "See the caveats in the documentation: https://pandas.pydata.org/pandas-docs/stable/user_guide/indexing.html#returning-a-view-versus-a-copy\n",
      "  df1['Sub Division'] = df1['Sub Division'].cat.codes\n"
     ]
    }
   ],
   "source": [
    "df1['Plate Type'] = df1['Plate Type'].astype('category')\n",
    "df1['Plate Type'] = df1['Plate Type'].cat.codes\n",
    "df1['Street Name'] = df1['Street Name'].astype('category')\n",
    "df1['Street Name'] = df1['Street Name'].cat.codes\n",
    "df1['Sub Division'] = df1['Sub Division'].astype('category')\n",
    "df1['Sub Division'] = df1['Sub Division'].cat.codes\n",
    "dum_df = pd.get_dummies(df1, columns=['Registration State'], prefix=['State'])\n",
    "dum_df = pd.get_dummies(dum_df, columns=['Issuing Agency'], prefix=['Agency'])\n",
    "dum_df = pd.get_dummies(dum_df, columns=['Law Section'], prefix=['Law Section'])"
   ]
  },
  {
   "cell_type": "markdown",
   "id": "32957d7e",
   "metadata": {},
   "source": [
    "Since PySpark does not allow a dot in the feature name, I renamed the columns that initially had dots in their name."
   ]
  },
  {
   "cell_type": "code",
   "execution_count": 7,
   "id": "b7a1dcb4",
   "metadata": {},
   "outputs": [],
   "source": [
    "dum_df = dum_df.rename({'Law Section_0.0': 'Law Section_0'}, axis=1)\n",
    "dum_df = dum_df.rename({'Law Section_408.0': 'Law Section_408'}, axis=1)\n",
    "dum_df = dum_df.rename({'Law Section_1111.0': 'Law Section_1111'}, axis=1)\n",
    "dum_df = dum_df.rename({'Law Section_1180.0': 'Law Section_1180'}, axis=1)\n",
    "dum_df = dum_df.rename({'Plate Type': 'label'}, axis=1)"
   ]
  },
  {
   "cell_type": "markdown",
   "id": "933fd134",
   "metadata": {},
   "source": [
    "Here, I split 80% of the data into the training data set and the rest of the testing data."
   ]
  },
  {
   "cell_type": "code",
   "execution_count": 8,
   "id": "490f57fc",
   "metadata": {},
   "outputs": [],
   "source": [
    "cont_feats = [col for col in dum_df.columns if col != 'label']\n",
    "X_train, X_test, y_train, y_test = train_test_split(\n",
    "     dum_df[cont_feats], dum_df['label'], test_size=0.2, random_state=0)\n",
    "new = X_train.join(y_train)"
   ]
  },
  {
   "cell_type": "markdown",
   "id": "6e1dfa4a",
   "metadata": {},
   "source": [
    "Since we can see from the following table that most plate type is Passenger Vehicles (PAS), accounting for more than 70% of the data, we need to balance the outcome attribute. Due to the size of the data, I decided to use the downsampling technique to reduce the number of observations. After making the data balanced, the number of observations decreases to about 5.2 million. "
   ]
  },
  {
   "cell_type": "code",
   "execution_count": 9,
   "id": "fd40022f",
   "metadata": {},
   "outputs": [
    {
     "data": {
      "text/html": [
       "<div>\n",
       "<style scoped>\n",
       "    .dataframe tbody tr th:only-of-type {\n",
       "        vertical-align: middle;\n",
       "    }\n",
       "\n",
       "    .dataframe tbody tr th {\n",
       "        vertical-align: top;\n",
       "    }\n",
       "\n",
       "    .dataframe thead th {\n",
       "        text-align: right;\n",
       "    }\n",
       "</style>\n",
       "<table border=\"1\" class=\"dataframe\">\n",
       "  <thead>\n",
       "    <tr style=\"text-align: right;\">\n",
       "      <th></th>\n",
       "      <th>index</th>\n",
       "      <th>%</th>\n",
       "    </tr>\n",
       "  </thead>\n",
       "  <tbody>\n",
       "    <tr>\n",
       "      <th>0</th>\n",
       "      <td>61</td>\n",
       "      <td>0.723932</td>\n",
       "    </tr>\n",
       "    <tr>\n",
       "      <th>1</th>\n",
       "      <td>18</td>\n",
       "      <td>0.197150</td>\n",
       "    </tr>\n",
       "    <tr>\n",
       "      <th>2</th>\n",
       "      <td>56</td>\n",
       "      <td>0.028751</td>\n",
       "    </tr>\n",
       "    <tr>\n",
       "      <th>3</th>\n",
       "      <td>73</td>\n",
       "      <td>0.010980</td>\n",
       "    </tr>\n",
       "    <tr>\n",
       "      <th>4</th>\n",
       "      <td>55</td>\n",
       "      <td>0.008332</td>\n",
       "    </tr>\n",
       "    <tr>\n",
       "      <th>5</th>\n",
       "      <td>0</td>\n",
       "      <td>0.005597</td>\n",
       "    </tr>\n",
       "    <tr>\n",
       "      <th>6</th>\n",
       "      <td>31</td>\n",
       "      <td>0.005236</td>\n",
       "    </tr>\n",
       "    <tr>\n",
       "      <th>7</th>\n",
       "      <td>81</td>\n",
       "      <td>0.002491</td>\n",
       "    </tr>\n",
       "    <tr>\n",
       "      <th>8</th>\n",
       "      <td>46</td>\n",
       "      <td>0.002350</td>\n",
       "    </tr>\n",
       "    <tr>\n",
       "      <th>9</th>\n",
       "      <td>54</td>\n",
       "      <td>0.001907</td>\n",
       "    </tr>\n",
       "  </tbody>\n",
       "</table>\n",
       "</div>"
      ],
      "text/plain": [
       "   index         %\n",
       "0     61  0.723932\n",
       "1     18  0.197150\n",
       "2     56  0.028751\n",
       "3     73  0.010980\n",
       "4     55  0.008332\n",
       "5      0  0.005597\n",
       "6     31  0.005236\n",
       "7     81  0.002491\n",
       "8     46  0.002350\n",
       "9     54  0.001907"
      ]
     },
     "execution_count": 9,
     "metadata": {},
     "output_type": "execute_result"
    }
   ],
   "source": [
    "df1['Plate Type'].value_counts(normalize=True).reset_index(name='%').head(10) "
   ]
  },
  {
   "cell_type": "code",
   "execution_count": 10,
   "id": "4a8c3c41",
   "metadata": {},
   "outputs": [],
   "source": [
    "most = new[new['label']== 61]\n",
    "less = new[new['label']!= 61]\n",
    "most_downsample = resample(most, replace=True, n_samples=len(less), random_state=0)\n",
    "downsampled = pd.concat([most_downsample, less])"
   ]
  },
  {
   "cell_type": "markdown",
   "id": "0fccc078",
   "metadata": {},
   "source": [
    "To tackle the missing values, I picked the multivariate feature imputation approach in the package scikit-learn. Instead of imputing the mean or median of the column to the missing values, this method can avoid increasing the correlation between the values in each column. Moreover, I set the minimum and maximum possible imputed values from each feature to prevent imputing weird values."
   ]
  },
  {
   "cell_type": "code",
   "execution_count": 11,
   "id": "982a7ced",
   "metadata": {},
   "outputs": [],
   "source": [
    "downsampled.replace({'Sub Division': {-1 : np.NaN}}, inplace = True)\n",
    "downsampled.replace({'Street Name': {-1 : np.NaN}}, inplace = True)\n",
    "iter_imputer = IterativeImputer(random_state=0, min_value=[1970, 1971, 0, 1, 1985,0, 0,\n",
    "                                                        0, 0, 0, 0, 0, 0, 1, 0, 24], \n",
    "                                max_value=[2069, 2066, 16, 12, 2015, 98260, 98310,\n",
    "                                          98280, 994,99, 996, 999992, 139,110540, 24, 60])\n",
    "feats = ['Vehicle Year', 'Vehicle Expiration Year', 'Feet From Curb', 'Issue Day', 'Issue Year',\n",
    "        'Street Code1', 'Street Code2', 'Street Code3', 'Violation Precinct',\n",
    "         'Violation Code', 'Issuer Precinct','Issuer Code', 'Sub Division', 'Street Name', 'Violation Hour', 'Violation Minute']\n",
    "iter_imputed = iter_imputer.fit_transform(downsampled[feats])\n",
    "df_iter_imputed = pd.DataFrame(iter_imputed, columns=feats)\n",
    "df_iter_imputed.reset_index(inplace=True, drop=True)\n",
    "downsampled.reset_index(inplace=True, drop=True)\n",
    "impute = pd.concat([df_iter_imputed, downsampled[downsampled.columns.difference(feats)]], axis=1)"
   ]
  },
  {
   "cell_type": "markdown",
   "id": "09fbd96f",
   "metadata": {},
   "source": [
    "Next, I utilized a feature selector to discard all low-variance features. As most features are not on the same scale, I normalized them first and set the threshold to 0.003."
   ]
  },
  {
   "cell_type": "code",
   "execution_count": 12,
   "id": "a9611cf5",
   "metadata": {
    "scrolled": true
   },
   "outputs": [
    {
     "name": "stderr",
     "output_type": "stream",
     "text": [
      "/Users/tsaichao-yi/opt/anaconda3/lib/python3.9/site-packages/sklearn/feature_selection/_variance_threshold.py:104: RuntimeWarning: Degrees of freedom <= 0 for slice.\n",
      "  self.variances_ = np.nanvar(X, axis=0)\n"
     ]
    }
   ],
   "source": [
    "selector = VarianceThreshold(threshold=.003)\n",
    "normalized_df = impute / impute.mean()\n",
    "_ = selector.fit(normalized_df)\n",
    "mask = selector.get_support()\n",
    "df_select = impute.loc[:, mask]"
   ]
  },
  {
   "cell_type": "markdown",
   "id": "4854cc9c",
   "metadata": {},
   "source": [
    "Because we would use logistic regression for prediction, we should hamper the multicollinearity problem by filtering highly correlated predictors within the training data set. I removed variables 'Sub Division' and 'Issuer Code'. "
   ]
  },
  {
   "cell_type": "code",
   "execution_count": 13,
   "id": "3532caee",
   "metadata": {},
   "outputs": [
    {
     "name": "stdout",
     "output_type": "stream",
     "text": [
      "max corr: 0.8839652440974837 , min corr:  -0.9999924549884882\n"
     ]
    },
    {
     "data": {
      "text/plain": [
       "Agency_T  Sub Division    0.883965\n",
       "Agency_P  Issuer Code     0.767297\n",
       "dtype: float64"
      ]
     },
     "metadata": {},
     "output_type": "display_data"
    }
   ],
   "source": [
    "threshold = 0.75\n",
    "def high_cor_function(df):\n",
    "    cor = df.corr()\n",
    "    corrm = np.corrcoef(df.transpose())\n",
    "    corr = corrm - np.diagflat(corrm.diagonal())\n",
    "    print('max corr:',corr.max(), ', min corr: ', corr.min())\n",
    "    c1 = cor.stack().sort_values(ascending=False).drop_duplicates()\n",
    "    high_cor = c1[c1.values!=1]    \n",
    "    thresh = threshold \n",
    "    display(high_cor[high_cor>thresh])\n",
    "high_cor_function(df_select)"
   ]
  },
  {
   "cell_type": "markdown",
   "id": "3238cec3",
   "metadata": {},
   "source": [
    "I also did the same imputation scheme on the testing data set, so there are no missing values. The final step was to delete features that did not appear in the training data set."
   ]
  },
  {
   "cell_type": "code",
   "execution_count": 14,
   "id": "cfd491cb",
   "metadata": {},
   "outputs": [
    {
     "name": "stderr",
     "output_type": "stream",
     "text": [
      "/var/folders/6d/_t56tgqs5rb4zjpyv64nnjvc0000gn/T/ipykernel_1381/3999540586.py:1: SettingWithCopyWarning: \n",
      "A value is trying to be set on a copy of a slice from a DataFrame\n",
      "\n",
      "See the caveats in the documentation: https://pandas.pydata.org/pandas-docs/stable/user_guide/indexing.html#returning-a-view-versus-a-copy\n",
      "  df_select.drop(['Sub Division', 'Issuer Code'], axis=1, inplace = True)\n"
     ]
    }
   ],
   "source": [
    "df_select.drop(['Sub Division', 'Issuer Code'], axis=1, inplace = True)\n",
    "new_test = X_test.join(y_test)\n",
    "new_test.replace({'Sub Division': {-1 : np.NaN}}, inplace = True)\n",
    "new_test.replace({'Street Name': {-1 : np.NaN}}, inplace = True)\n",
    "iter_imputed = iter_imputer.fit_transform(new_test[feats])\n",
    "df_iter_imputed = pd.DataFrame(iter_imputed, columns=feats)\n",
    "df_iter_imputed.reset_index(inplace=True, drop=True)\n",
    "new_test.reset_index(inplace=True, drop=True)\n",
    "impute = pd.concat([df_iter_imputed, new_test[new_test.columns.difference(feats)]], axis=1)\n",
    "test = impute[df_select.columns]"
   ]
  },
  {
   "cell_type": "code",
   "execution_count": 15,
   "id": "f6d91b0b",
   "metadata": {},
   "outputs": [],
   "source": [
    "test.to_csv(r'/Users/tsaichao-yi/Desktop/test.csv',index=False)\n",
    "df_select.to_csv(r'/Users/tsaichao-yi/Desktop/train.csv',index=False)"
   ]
  },
  {
   "cell_type": "markdown",
   "id": "75fd6fc5",
   "metadata": {},
   "source": [
    "We have completed the data preprocessing steps. Now, instead of converting Pandas data frame to PySpark data frame using the function spark.createDataFrame(), I chose to save the files first and then import them as the PySpark data frame, as this takes less time."
   ]
  },
  {
   "cell_type": "code",
   "execution_count": 16,
   "id": "ef6ac0b9",
   "metadata": {},
   "outputs": [
    {
     "name": "stderr",
     "output_type": "stream",
     "text": [
      "22/06/20 00:43:04 WARN Utils: Your hostname, TSAIdeMacBook-Pro.local resolves to a loopback address: 127.0.0.1; using 172.20.8.182 instead (on interface en0)\n",
      "22/06/20 00:43:04 WARN Utils: Set SPARK_LOCAL_IP if you need to bind to another address\n",
      "WARNING: An illegal reflective access operation has occurred\n",
      "WARNING: Illegal reflective access by org.apache.spark.unsafe.Platform (file:/Users/tsaichao-yi/opt/anaconda3/lib/python3.9/site-packages/pyspark/jars/spark-unsafe_2.12-3.1.2.jar) to constructor java.nio.DirectByteBuffer(long,int)\n",
      "WARNING: Please consider reporting this to the maintainers of org.apache.spark.unsafe.Platform\n",
      "WARNING: Use --illegal-access=warn to enable warnings of further illegal reflective access operations\n",
      "WARNING: All illegal access operations will be denied in a future release\n",
      "22/06/20 00:43:05 WARN NativeCodeLoader: Unable to load native-hadoop library for your platform... using builtin-java classes where applicable\n",
      "Using Spark's default log4j profile: org/apache/spark/log4j-defaults.properties\n",
      "Setting default log level to \"WARN\".\n",
      "To adjust logging level use sc.setLogLevel(newLevel). For SparkR, use setLogLevel(newLevel).\n"
     ]
    }
   ],
   "source": [
    "from pyspark.sql import SparkSession\n",
    "from pyspark.ml import Pipeline\n",
    "from pyspark.ml.tuning import ParamGridBuilder, CrossValidator\n",
    "from pyspark.ml.feature import VectorAssembler\n",
    "from pyspark.ml.classification import LogisticRegression, DecisionTreeClassifier, \\\n",
    "NaiveBayes, RandomForestClassifier\n",
    "from pyspark.ml.evaluation import MulticlassClassificationEvaluator\n",
    "spark = SparkSession.builder \\\n",
    ".appName('app_name') \\\n",
    ".master('local[*]') \\\n",
    ".config('spark.sql.execution.arrow.pyspark.enabled', True) \\\n",
    ".config('spark.sql.session.timeZone', 'UTC') \\\n",
    ".config('spark.driver.memory','32G') \\\n",
    ".config('spark.ui.showConsoleProgress', True) \\\n",
    ".config('spark.sql.repl.eagerEval.enabled', True) \\\n",
    ".getOrCreate()\n",
    "evaluator=MulticlassClassificationEvaluator(predictionCol=\"prediction\") "
   ]
  },
  {
   "cell_type": "code",
   "execution_count": 17,
   "id": "54f0c417",
   "metadata": {},
   "outputs": [
    {
     "name": "stderr",
     "output_type": "stream",
     "text": [
      "                                                                                \r"
     ]
    }
   ],
   "source": [
    "test_spark = spark.read.option('inferSchema',True) \\\n",
    "        .option('header', 'true') \\\n",
    "  .csv(r'/Users/tsaichao-yi/Desktop/test.csv')\n",
    "train_spark = spark.read.option('inferSchema',True) \\\n",
    "        .option('header', 'true') \\\n",
    "  .csv(r'/Users/tsaichao-yi/Desktop/train.csv')"
   ]
  },
  {
   "cell_type": "markdown",
   "id": "44c104ec",
   "metadata": {},
   "source": [
    "I only aggregated all the covariates in the feature column using VectorAssembler, as other data preprocessing procedures were completed using the Pandas package. This is why there is only one element in the Pipeline list."
   ]
  },
  {
   "cell_type": "code",
   "execution_count": 18,
   "id": "2bbe8845",
   "metadata": {},
   "outputs": [],
   "source": [
    "Cols = [col for col in train_spark.columns if col != 'label']\n",
    "stage1 = VectorAssembler(inputCols=Cols, outputCol= 'features')\n",
    "pipeline = Pipeline(stages=[stage1])\n",
    "train = pipeline.fit(train_spark).transform(train_spark)\n",
    "test = pipeline.fit(test_spark).transform(test_spark)"
   ]
  },
  {
   "cell_type": "markdown",
   "id": "b8e4332b",
   "metadata": {},
   "source": [
    "Since the data set is large, it is time-consuming to run a 10-fold cross-validation. Hence, only 5-fold was used here. The maximum number of bins for discretizing continuous features and the number of trees to train are two hyperparameters to tune in random forest."
   ]
  },
  {
   "cell_type": "code",
   "execution_count": 19,
   "id": "8d0c2fe2",
   "metadata": {
    "scrolled": true
   },
   "outputs": [
    {
     "name": "stderr",
     "output_type": "stream",
     "text": [
      "22/06/20 00:46:43 WARN package: Truncated the string representation of a plan since it was too large. This behavior can be adjusted by setting 'spark.sql.debug.maxToStringFields'.\n",
      "22/06/20 06:16:53 WARN HeartbeatReceiver: Removing executor driver with no recent heartbeats: 1022477 ms exceeds timeout 120000 ms\n",
      "22/06/20 06:16:53 WARN SparkContext: Killing executors is not supported by current scheduler.\n",
      "                                                                                \r"
     ]
    }
   ],
   "source": [
    "rf = RandomForestClassifier(featuresCol = 'features', labelCol = 'label', seed = 0)\n",
    "paramGrid= (ParamGridBuilder()\n",
    "           .addGrid(rf.maxBins, [26, 28])\n",
    "           .addGrid(rf.numTrees, [7, 9])\n",
    "           .build())\n",
    "cv = CrossValidator(estimator=rf, estimatorParamMaps=paramGrid, \n",
    "                   evaluator=evaluator, numFolds=5)\n",
    "cvModel1 = cv.fit(train)\n",
    "pred1 = cvModel1.transform(test)"
   ]
  },
  {
   "cell_type": "markdown",
   "id": "b5abe74c",
   "metadata": {},
   "source": [
    "The only hyperparameter I tune in logistic regression is the elasticNet mixing parameter."
   ]
  },
  {
   "cell_type": "code",
   "execution_count": 21,
   "id": "c1cb78e1",
   "metadata": {},
   "outputs": [
    {
     "name": "stderr",
     "output_type": "stream",
     "text": [
      "22/06/20 07:22:04 WARN BLAS: Failed to load implementation from: com.github.fommil.netlib.NativeSystemBLAS\n",
      "22/06/20 07:22:04 WARN BLAS: Failed to load implementation from: com.github.fommil.netlib.NativeRefBLAS\n",
      "                                                                                \r"
     ]
    }
   ],
   "source": [
    "lr = LogisticRegression(featuresCol = 'features', labelCol = 'label', family='multinomial')\n",
    "paramGrid = (ParamGridBuilder()\n",
    "           .addGrid(lr.elasticNetParam, [0.1, 0.2, 0.3])\n",
    "           .build())\n",
    "cv = CrossValidator(estimator=lr, estimatorParamMaps=paramGrid, \n",
    "                   evaluator=evaluator, numFolds=5)\n",
    "cvModel2 = cv.fit(train)\n",
    "pred2 = cvModel2.transform(test)"
   ]
  },
  {
   "cell_type": "markdown",
   "id": "49fb4355",
   "metadata": {},
   "source": [
    "The maximum number of bins for discretizing continuous features for the decision tree is the only hyperparameter to tune. "
   ]
  },
  {
   "cell_type": "code",
   "execution_count": 22,
   "id": "2e9d88e4",
   "metadata": {},
   "outputs": [
    {
     "name": "stderr",
     "output_type": "stream",
     "text": [
      "                                                                                \r"
     ]
    }
   ],
   "source": [
    "dt = DecisionTreeClassifier(featuresCol = 'features', labelCol = 'label', seed = 0)\n",
    "paramGrid= (ParamGridBuilder()\n",
    "            .addGrid(dt.maxBins, [30, 31, 32, 33])\n",
    "           .build())\n",
    "cv = CrossValidator(estimator=dt, estimatorParamMaps=paramGrid, \n",
    "                   evaluator=evaluator, numFolds=5)\n",
    "cvModel3 = cv.fit(train)\n",
    "pred3 = cvModel3.transform(test) "
   ]
  },
  {
   "cell_type": "markdown",
   "id": "7f60fe56",
   "metadata": {},
   "source": [
    "I only tune the smoothing parameter in the Naive Bayes method."
   ]
  },
  {
   "cell_type": "code",
   "execution_count": 23,
   "id": "e9804cbe",
   "metadata": {},
   "outputs": [
    {
     "name": "stderr",
     "output_type": "stream",
     "text": [
      "                                                                                \r"
     ]
    }
   ],
   "source": [
    "nb = NaiveBayes(featuresCol = 'features', labelCol = 'label', modelType='multinomial')\n",
    "paramGrid= (ParamGridBuilder()\n",
    "           .addGrid(nb.smoothing, [2030, 2035, 2040])\n",
    "           .build())\n",
    "cv = CrossValidator(estimator=nb, estimatorParamMaps=paramGrid, \n",
    "                   evaluator=evaluator, numFolds=5)\n",
    "cvModel4 = cv.fit(train)\n",
    "pred4 = cvModel4.transform(test)"
   ]
  },
  {
   "cell_type": "markdown",
   "id": "730e1e2d",
   "metadata": {},
   "source": [
    "The usage of the following functions and class is to assist in searching for the best model and its parameters setting."
   ]
  },
  {
   "cell_type": "code",
   "execution_count": 24,
   "id": "c84fc4da",
   "metadata": {},
   "outputs": [],
   "source": [
    "#https://stackoverflow.com/questions/52847408/pyspark-extract-roc-curve\n",
    "class CurveMetrics(BinaryClassificationMetrics):\n",
    "    def __init__(self, *args):\n",
    "        super(CurveMetrics, self).__init__(*args)\n",
    "\n",
    "    def _to_list(self, rdd):\n",
    "        points = []\n",
    "        for row in rdd.collect():\n",
    "            points += [(float(row._1()), float(row._2()))]\n",
    "        return points\n",
    "\n",
    "    def get_curve(self, method):\n",
    "        rdd = getattr(self._java_model, method)().toJavaRDD()\n",
    "        return self._to_list(rdd)\n",
    "def detail(pred):\n",
    "    preds = pred.select('label','probability').rdd.map(lambda row: (float(row['probability'][1]), float(row['label'])))\n",
    "    points = CurveMetrics(preds).get_curve('roc')\n",
    "    x_val = [x[0] for x in points]\n",
    "    y_val = [x[1] for x in points]\n",
    "    return x_val, y_val\n",
    "def integrate(x, y):\n",
    "   sm = 0\n",
    "   for i in range(1, len(x)):\n",
    "       h = x[i] - x[i-1]\n",
    "       sm += h * (y[i-1] + y[i]) / 2\n",
    "   return sm\n",
    "def acc(forecast):\n",
    "    return evaluator.evaluate(forecast)"
   ]
  },
  {
   "cell_type": "code",
   "execution_count": 25,
   "id": "1b935c65",
   "metadata": {},
   "outputs": [
    {
     "name": "stderr",
     "output_type": "stream",
     "text": [
      "                                                                                \r"
     ]
    }
   ],
   "source": [
    "d1 = detail(pred1)\n",
    "d2 = detail(pred2)\n",
    "d3 = detail(pred3)\n",
    "d4 = detail(pred4)"
   ]
  },
  {
   "cell_type": "markdown",
   "id": "1aebc7b4",
   "metadata": {},
   "source": [
    "The following ROC curves show that all approaches have above-average performance, except for the Naive Bayes method. We can confirm which is better from the following table by calculating the area under the curve (AUC)."
   ]
  },
  {
   "cell_type": "code",
   "execution_count": 26,
   "id": "b351864f",
   "metadata": {},
   "outputs": [
    {
     "data": {
      "image/png": "[encoded data removed]",
      "text/plain": [
       "<Figure size 432x288 with 1 Axes>"
      ]
     },
     "metadata": {
      "needs_background": "light"
     },
     "output_type": "display_data"
    }
   ],
   "source": [
    "plt.title('ROC Curve')\n",
    "plt.plot(d1[0], d1[1], color = 'm', label = 'Random Forest')\n",
    "plt.plot(d2[0], d2[1], color = 'c', label = 'Logistic Regression')\n",
    "plt.plot(d3[0], d3[1], color = 'r', label = 'Decision Tree')\n",
    "plt.plot(d4[0], d4[1], color = 'g', label = 'Naive Bayes')\n",
    "plt.xlabel('False Positive Rate')\n",
    "plt.ylabel('True Positive Rate')\n",
    "plt.legend(loc='best')\n",
    "plt.show()"
   ]
  },
  {
   "cell_type": "markdown",
   "id": "be9378f9",
   "metadata": {},
   "source": [
    "The table below indicates that the decision tree has the highest accuracy and the largest AUC, reaching 0.75 and 0.62, respectively. The random forest is also a competitive candidate. Generally speaking, except for the Naive Bayes, all models perform well-considering accuracy since their values are above 0.7. The probable reason why Naive Bayes has a poor forecast capability is that it assumes each feature makes an independent and equal contribution to the outcome. However, this condition is not met in our case, as some attributes may be more prominent than others. The tree-based methods work well because, from my guessing, I did not normalize the variables before training, and these methods can tolerate the considerable difference between the scale of variables."
   ]
  },
  {
   "cell_type": "code",
   "execution_count": 27,
   "id": "bfbd1236",
   "metadata": {},
   "outputs": [
    {
     "name": "stderr",
     "output_type": "stream",
     "text": [
      "                                                                                \r"
     ]
    },
    {
     "data": {
      "text/html": [
       "<div>\n",
       "<style scoped>\n",
       "    .dataframe tbody tr th:only-of-type {\n",
       "        vertical-align: middle;\n",
       "    }\n",
       "\n",
       "    .dataframe tbody tr th {\n",
       "        vertical-align: top;\n",
       "    }\n",
       "\n",
       "    .dataframe thead th {\n",
       "        text-align: right;\n",
       "    }\n",
       "</style>\n",
       "<table border=\"1\" class=\"dataframe\">\n",
       "  <thead>\n",
       "    <tr style=\"text-align: right;\">\n",
       "      <th></th>\n",
       "      <th>Models</th>\n",
       "      <th>Accuracy</th>\n",
       "      <th>Area Under ROC</th>\n",
       "    </tr>\n",
       "  </thead>\n",
       "  <tbody>\n",
       "    <tr>\n",
       "      <th>0</th>\n",
       "      <td>Random Forest</td>\n",
       "      <td>0.749676</td>\n",
       "      <td>0.594742</td>\n",
       "    </tr>\n",
       "    <tr>\n",
       "      <th>1</th>\n",
       "      <td>Logistic Regression</td>\n",
       "      <td>0.701631</td>\n",
       "      <td>0.608736</td>\n",
       "    </tr>\n",
       "    <tr>\n",
       "      <th>2</th>\n",
       "      <td>Decision Tree</td>\n",
       "      <td>0.753044</td>\n",
       "      <td>0.618930</td>\n",
       "    </tr>\n",
       "    <tr>\n",
       "      <th>3</th>\n",
       "      <td>Naive Bayes</td>\n",
       "      <td>0.001085</td>\n",
       "      <td>0.499824</td>\n",
       "    </tr>\n",
       "  </tbody>\n",
       "</table>\n",
       "</div>"
      ],
      "text/plain": [
       "                Models  Accuracy  Area Under ROC\n",
       "0        Random Forest  0.749676        0.594742\n",
       "1  Logistic Regression  0.701631        0.608736\n",
       "2        Decision Tree  0.753044        0.618930\n",
       "3          Naive Bayes  0.001085        0.499824"
      ]
     },
     "execution_count": 27,
     "metadata": {},
     "output_type": "execute_result"
    }
   ],
   "source": [
    "accuracy = pd.DataFrame({\n",
    "  'Models': ['Random Forest', 'Logistic Regression', 'Decision Tree', 'Naive Bayes'],\n",
    "  'Accuracy': [acc(pred1), acc(pred2), acc(pred3), acc(pred4)],\n",
    "  'Area Under ROC': [integrate(d1[0], d1[1]), integrate(d2[0], d2[1]), \n",
    "                     integrate(d3[0], d3[1]), integrate(d4[0], d4[1])]\n",
    "})\n",
    "accuracy"
   ]
  },
  {
   "cell_type": "markdown",
   "id": "5ef2f17e",
   "metadata": {},
   "source": [
    "For the best model, the maximum number of bins for discretizing continuous features should be 32, the same as the default setting."
   ]
  },
  {
   "cell_type": "code",
   "execution_count": 28,
   "id": "0bcbad4c",
   "metadata": {},
   "outputs": [
    {
     "data": {
      "text/plain": [
       "32"
      ]
     },
     "execution_count": 28,
     "metadata": {},
     "output_type": "execute_result"
    }
   ],
   "source": [
    "cvModel3.bestModel._java_obj.getMaxBins()"
   ]
  }
 ],
 "metadata": {
  "kernelspec": {
   "display_name": "Python 3 (ipykernel)",
   "language": "python",
   "name": "python3"
  },
  "language_info": {
   "codemirror_mode": {
    "name": "ipython",
    "version": 3
   },
   "file_extension": ".py",
   "mimetype": "text/x-python",
   "name": "python",
   "nbconvert_exporter": "python",
   "pygments_lexer": "ipython3",
   "version": "3.9.12"
  }
 },
 "nbformat": 4,
 "nbformat_minor": 5
}
