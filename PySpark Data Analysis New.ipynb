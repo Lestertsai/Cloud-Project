{
 "cells": [
  {
   "cell_type": "code",
   "execution_count": 1,
   "id": "6a34c1f0",
   "metadata": {},
   "outputs": [],
   "source": [
    "import pandas as pd\n",
    "import numpy as np\n",
    "from sklearn.preprocessing import OneHotEncoder\n",
    "from sklearn.model_selection import train_test_split, GridSearchCV\n",
    "from sklearn.feature_selection import VarianceThreshold\n",
    "from sklearn.utils import resample\n",
    "from sklearn.experimental import enable_iterative_imputer\n",
    "from sklearn.impute import IterativeImputer\n",
    "from pyspark.mllib.evaluation import BinaryClassificationMetrics\n",
    "import matplotlib.pyplot as plt\n",
    "pd.set_option('display.max_columns', None)\n",
    "pd.set_option('display.max_rows', None)\n",
    "pd.options.mode.chained_assignment = None "
   ]
  },
  {
   "cell_type": "code",
   "execution_count": 2,
   "id": "01f4a265",
   "metadata": {},
   "outputs": [
    {
     "name": "stderr",
     "output_type": "stream",
     "text": [
      "/var/folders/6d/_t56tgqs5rb4zjpyv64nnjvc0000gn/T/ipykernel_1391/442458610.py:1: DtypeWarning: Columns (18,29,38,40,41,42) have mixed types. Specify dtype option on import or set low_memory=False.\n",
      "  df = pd.read_csv(r'/Users/tsaichao-yi/Downloads/Parking_Violations_Issued_-_Fiscal_Year_2015.csv')\n"
     ]
    }
   ],
   "source": [
    "df = pd.read_csv(r'/Users/tsaichao-yi/Downloads/Parking_Violations_Issued_-_Fiscal_Year_2015.csv')  "
   ]
  },
  {
   "cell_type": "markdown",
   "id": "67e3eea0",
   "metadata": {},
   "source": [
    "Since the data size is almost 3GB, it would be difficult to train. I decided to focus on cases in which the issue dates of the plates were in the first half year of 2014. "
   ]
  },
  {
   "cell_type": "code",
   "execution_count": 3,
   "id": "52383f43",
   "metadata": {},
   "outputs": [],
   "source": [
    "year = [int(w[6:])==2014 for w in df['Issue Date']]\n",
    "month = [7>int(w[:2])>0 for w in df['Issue Date']]\n",
    "df1 = df[[a and b for a, b in zip(year, month)]]"
   ]
  },
  {
   "cell_type": "markdown",
   "id": "01260fab",
   "metadata": {},
   "source": [
    "The first step is removing variables with more than 30% missing values since any imputation method could not provide a reliable result."
   ]
  },
  {
   "cell_type": "code",
   "execution_count": 4,
   "id": "403688c3",
   "metadata": {},
   "outputs": [],
   "source": [
    "def missing(df):\n",
    "    percent_missing = df.isnull().sum() * 100 / len(df)\n",
    "    missing_value_df = pd.DataFrame({'column_name': df.columns, 'percent_missing': percent_missing})\n",
    "    return missing_value_df\n",
    "lost = missing(df1)['percent_missing'] > 0.3\n",
    "df1 = df1[df1.columns[~lost]]"
   ]
  },
  {
   "cell_type": "markdown",
   "id": "6e09f0bf",
   "metadata": {},
   "source": [
    "Here, I deleted several noninformative variables and extracted the partitions of attributes as the new ones, including 'Issue Day', 'Vehicle Expiration Year', 'Violation Hour', and 'Violation Minute'. Then, I replaced the outliers in features with null values. These will be imputed later."
   ]
  },
  {
   "cell_type": "code",
   "execution_count": 5,
   "id": "1d357a0f",
   "metadata": {
    "scrolled": true
   },
   "outputs": [],
   "source": [
    "pre_hour = [str(w)[:2] for w in list(df1['Violation Time']) ]\n",
    "df1['Violation Hour'] =  pd.Series([(int(w) if 0<=int(w)<=24 else np.NaN) if w.isdigit() else np.NaN for w in pre_hour])\n",
    "pre_minute = [str(w)[2:4] for w in list(df1['Violation Time']) ]\n",
    "df1['Violation Minute'] = pd.Series([(int(w) if 0<=int(w)<=60 else np.NaN) if w.isdigit() else np.NaN for w in pre_minute])\n",
    "df1['Issue Day'] = pd.Series([int(w[:2]) for w in list(df1['Issue Date'])])\n",
    "df1['Vehicle Expiration Year'] = pd.Series([int(w[6:10]) for w in list(df1['Vehicle Expiration Date'])])\n",
    "df1.replace({'Vehicle Expiration Year' : { 8888 :  np.NaN, 1:np.NaN}}, inplace = True)\n",
    "df1.replace({'Vehicle Year': {0 : np.NaN}}, inplace = True)\n",
    "df1.drop(['Summons Number', 'Plate ID', 'Date First Observed', 'Violation Time', \n",
    "          'Issue Date', 'Vehicle Expiration Date', 'Sub Division'], axis=1, inplace = True)"
   ]
  },
  {
   "cell_type": "markdown",
   "id": "1c790320",
   "metadata": {},
   "source": [
    "To avoid plate types not found in the testing data, I picked their unique values to generate the label encoding scheme."
   ]
  },
  {
   "cell_type": "code",
   "execution_count": 6,
   "id": "ea0c23cc",
   "metadata": {},
   "outputs": [],
   "source": [
    "from sklearn.preprocessing import LabelEncoder\n",
    "le = LabelEncoder()\n",
    "key_target = le.fit(list(set(df1['Plate Type'])))"
   ]
  },
  {
   "cell_type": "markdown",
   "id": "590f8ec3",
   "metadata": {},
   "source": [
    "Split 80% of the data into the training data set and the rest of the testing data."
   ]
  },
  {
   "cell_type": "code",
   "execution_count": 7,
   "id": "40898d82",
   "metadata": {},
   "outputs": [],
   "source": [
    "cont_feats = [col for col in df1.columns if col != 'Plate Type']\n",
    "X_train, X_test, y_train, y_test = train_test_split(\n",
    "     df1[cont_feats], df1['Plate Type'], test_size=0.2, random_state=0)\n",
    "train = X_train.join(y_train)\n",
    "test = X_test.join(y_test)"
   ]
  },
  {
   "cell_type": "markdown",
   "id": "5d4f7576",
   "metadata": {},
   "source": [
    "Transformed the outcome variable into a dummy variable."
   ]
  },
  {
   "cell_type": "code",
   "execution_count": 8,
   "id": "02fc0926",
   "metadata": {},
   "outputs": [],
   "source": [
    "target = key_target.transform(train['Plate Type'])"
   ]
  },
  {
   "cell_type": "markdown",
   "id": "20fc986a",
   "metadata": {},
   "source": [
    "Split the training data into categorical and numeric dataframes."
   ]
  },
  {
   "cell_type": "code",
   "execution_count": 9,
   "id": "0c1580f8",
   "metadata": {},
   "outputs": [],
   "source": [
    "num_cols = train._get_numeric_data().columns\n",
    "feats = list(set(df1.columns) - set(num_cols))\n",
    "feats.remove('Plate Type')\n",
    "category = train[feats] "
   ]
  },
  {
   "cell_type": "markdown",
   "id": "1bb012ee",
   "metadata": {},
   "source": [
    "Replaced the missing values with the most frequent class in each column in the categorical dataframe."
   ]
  },
  {
   "cell_type": "code",
   "execution_count": 10,
   "id": "f7e0fba9",
   "metadata": {},
   "outputs": [],
   "source": [
    "from sklearn.impute import SimpleImputer\n",
    "imp_mean = SimpleImputer(missing_values=np.nan, strategy='most_frequent')\n",
    "category_imputed = imp_mean.fit_transform(category)\n",
    "df_category_imputed = pd.DataFrame(category_imputed, columns=list(category))\n",
    "df_category_imputed.reset_index(inplace=True, drop=True)"
   ]
  },
  {
   "cell_type": "markdown",
   "id": "062752c3",
   "metadata": {},
   "source": [
    "To prevent the noise from the infrequent classes from harming the prediction performance, elements whose percentage in each column was less than 20% were replaced with a new class 'other'."
   ]
  },
  {
   "cell_type": "code",
   "execution_count": 11,
   "id": "a5a05e25",
   "metadata": {},
   "outputs": [],
   "source": [
    "limit = round(train.shape[0]*0.2)\n",
    "new_category = df_category_imputed.where(\n",
    "    category.apply(lambda x: x.map(x.value_counts()))>=limit, 'other')"
   ]
  },
  {
   "cell_type": "markdown",
   "id": "7440aa87",
   "metadata": {},
   "source": [
    "Utilized one hot encoder to transform the categorical data frame. Note that to avoid the unseen case in the testing data, the handle_unknown parameter is set to 'ignore'."
   ]
  },
  {
   "cell_type": "code",
   "execution_count": 12,
   "id": "887a925f",
   "metadata": {},
   "outputs": [],
   "source": [
    "from sklearn.preprocessing import OneHotEncoder\n",
    "onehot = OneHotEncoder(handle_unknown='ignore')\n",
    "key = onehot.fit(new_category)\n",
    "onehot_result = key.transform(new_category).toarray()\n",
    "onehot_back = pd.DataFrame(onehot_result, columns=onehot.get_feature_names_out())"
   ]
  },
  {
   "cell_type": "markdown",
   "id": "1297663a",
   "metadata": {},
   "source": [
    "Removed the columns containing single values."
   ]
  },
  {
   "cell_type": "code",
   "execution_count": 14,
   "id": "21f5b793",
   "metadata": {},
   "outputs": [],
   "source": [
    "for col in new_category.columns:\n",
    "    if len(new_category[col].unique()) == 1:\n",
    "        new_category.drop(col,inplace=True,axis=1)"
   ]
  },
  {
   "cell_type": "markdown",
   "id": "52b74990",
   "metadata": {},
   "source": [
    "Similarily, I replaced the missing values with the most frequent class in each column in the numeric dataframe."
   ]
  },
  {
   "cell_type": "code",
   "execution_count": 15,
   "id": "29ac5a28",
   "metadata": {},
   "outputs": [],
   "source": [
    "from sklearn.impute import SimpleImputer\n",
    "imp_mean = SimpleImputer(missing_values=np.nan, strategy='most_frequent')\n",
    "numeric_imputed = imp_mean.fit_transform(train[num_cols])\n",
    "df_numeric_imputed = pd.DataFrame(numeric_imputed, columns=list(num_cols))\n",
    "df_numeric_imputed.reset_index(inplace=True, drop=True)"
   ]
  },
  {
   "cell_type": "markdown",
   "id": "75190c49",
   "metadata": {},
   "source": [
    "Deleted numeric columns whose variances were close to zero."
   ]
  },
  {
   "cell_type": "code",
   "execution_count": 17,
   "id": "7986e65d",
   "metadata": {},
   "outputs": [],
   "source": [
    "selector = VarianceThreshold(threshold=.003)\n",
    "normalized_df = df_numeric_imputed / df_numeric_imputed.mean()\n",
    "_ = selector.fit(normalized_df)\n",
    "mask = selector.get_support()\n",
    "df_select = df_numeric_imputed.loc[:, mask]"
   ]
  },
  {
   "cell_type": "markdown",
   "id": "570e0457",
   "metadata": {},
   "source": [
    "Because we would use logistic regression for prediction, we should hamper the multicollinearity problem by filtering highly correlated predictors within the training data set. I set the threshold to 0.75 to filter out these variables."
   ]
  },
  {
   "cell_type": "code",
   "execution_count": 18,
   "id": "dc049d51",
   "metadata": {},
   "outputs": [
    {
     "name": "stdout",
     "output_type": "stream",
     "text": [
      "max corr: 0.769434314703414 , min corr:  -0.8180817518603601\n"
     ]
    },
    {
     "data": {
      "text/plain": [
       "Street Code2  Street Code3    0.769434\n",
       "dtype: float64"
      ]
     },
     "metadata": {},
     "output_type": "display_data"
    }
   ],
   "source": [
    "threshold = 0.75\n",
    "def high_cor_function(df):\n",
    "    cor = df.corr()\n",
    "    corrm = np.corrcoef(df.transpose())\n",
    "    corr = corrm - np.diagflat(corrm.diagonal())\n",
    "    print('max corr:',corr.max(), ', min corr: ', corr.min())\n",
    "    c1 = cor.stack().sort_values(ascending=False).drop_duplicates()\n",
    "    high_cor = c1[c1.values!=1]    \n",
    "    thresh = threshold \n",
    "    display(high_cor[high_cor>thresh])\n",
    "df_select = df_select.astype(float)\n",
    "high_cor_function(df_select)"
   ]
  },
  {
   "cell_type": "markdown",
   "id": "b7de4758",
   "metadata": {},
   "source": [
    "Since column 'Street Code2' was correlated to 'Street Code3', 'Street Code2' was decarded."
   ]
  },
  {
   "cell_type": "code",
   "execution_count": 19,
   "id": "8d2f0f5c",
   "metadata": {},
   "outputs": [],
   "source": [
    "df_select.drop(['Street Code2'], axis=1, inplace = True)"
   ]
  },
  {
   "cell_type": "markdown",
   "id": "b0b83485",
   "metadata": {},
   "source": [
    "Now, the data preprocessing has almost completed, so the categorical and the numeric dataframes were combined."
   ]
  },
  {
   "cell_type": "code",
   "execution_count": 20,
   "id": "4056349e",
   "metadata": {},
   "outputs": [],
   "source": [
    "impute = pd.concat([df_select, onehot_back], axis=1)\n",
    "impute['Plate Type'] =  pd.Series(target)"
   ]
  },
  {
   "cell_type": "markdown",
   "id": "591b8ab5",
   "metadata": {},
   "source": [
    "Because the target variable, 'Plate Type', was imbalanced, I used the NearMiss method to undersample the most frequent class. Also, since the count of some classes is 1, only the nearst neighbourhood was used to compute the average distance to the minority point samples."
   ]
  },
  {
   "cell_type": "code",
   "execution_count": 21,
   "id": "53b9d5cc",
   "metadata": {},
   "outputs": [],
   "source": [
    "from imblearn.under_sampling import NearMiss\n",
    "undersample = NearMiss(version=1, n_neighbors=1)\n",
    "X_over, y_over = undersample.fit_resample(impute.loc[:, impute.columns != 'Plate Type'], impute['Plate Type'])\n",
    "new_train = pd.concat([X_over, y_over], axis = 1)"
   ]
  },
  {
   "cell_type": "markdown",
   "id": "204a385d",
   "metadata": {},
   "source": [
    "The same procedure was performed on the testing data. First, missing values were replaced with the most frequent class in each column in the categorical training dataframe. Imputing data in the testing data itself will incur data leakage problems."
   ]
  },
  {
   "cell_type": "code",
   "execution_count": 22,
   "id": "e7e60ac2",
   "metadata": {},
   "outputs": [],
   "source": [
    "category_test = test[feats] \n",
    "category_test =category_test.fillna(category.mode().iloc[0])\n",
    "category_test.reset_index(inplace=True, drop=True)\n",
    "onehot_result_test = key.transform(category_test).toarray()\n",
    "onehot_test = pd.DataFrame(onehot_result_test, columns=onehot.get_feature_names_out())"
   ]
  },
  {
   "cell_type": "markdown",
   "id": "b874dbf3",
   "metadata": {},
   "source": [
    "Transformed the outcome variable into a dummy variable."
   ]
  },
  {
   "cell_type": "code",
   "execution_count": 24,
   "id": "284a2ac2",
   "metadata": {},
   "outputs": [],
   "source": [
    "target_test = key_target.transform(test['Plate Type'])"
   ]
  },
  {
   "cell_type": "markdown",
   "id": "ccb6fc0b",
   "metadata": {},
   "source": [
    "Missing values were replaced with the most frequent class in each column in the numeric training dataframe."
   ]
  },
  {
   "cell_type": "code",
   "execution_count": 25,
   "id": "67328f96",
   "metadata": {},
   "outputs": [],
   "source": [
    "numeric_test_imputed =test[num_cols].fillna(df_numeric_imputed.mode().iloc[0])\n",
    "numeric_test_imputed.reset_index(inplace=True, drop=True)"
   ]
  },
  {
   "cell_type": "markdown",
   "id": "d09d46e1",
   "metadata": {},
   "source": [
    "Concanated the categorical and numeric data."
   ]
  },
  {
   "cell_type": "code",
   "execution_count": 26,
   "id": "cb72dd5c",
   "metadata": {},
   "outputs": [],
   "source": [
    "impute_test = pd.concat([numeric_test_imputed, onehot_test], axis=1)\n",
    "impute_test['Plate Type'] = pd.Series(target_test)"
   ]
  },
  {
   "cell_type": "markdown",
   "id": "117f0f90",
   "metadata": {},
   "source": [
    "Only attributes in both training and test data were preserved."
   ]
  },
  {
   "cell_type": "code",
   "execution_count": 27,
   "id": "4b6fc9a7",
   "metadata": {},
   "outputs": [],
   "source": [
    "interact = list(set(impute_test.columns) & set(impute.columns))\n",
    "train2 = impute[interact]\n",
    "test2 = impute_test[interact]"
   ]
  },
  {
   "cell_type": "markdown",
   "id": "d4c03516",
   "metadata": {},
   "source": [
    "Due to the constraint of columns in PySpark, I renamed the target variable, removed space between column names, and converted all of them to lowercase."
   ]
  },
  {
   "cell_type": "code",
   "execution_count": 28,
   "id": "2d89be31",
   "metadata": {},
   "outputs": [],
   "source": [
    "train2 = train2.rename({'Plate Type': 'label'}, axis=1)\n",
    "test2 = test2.rename({'Plate Type': 'label'}, axis=1)\n",
    "train2.columns = train2.columns.str.replace(' ', '_')\n",
    "test2.columns = test2.columns.str.replace(' ', '_')\n",
    "train2.columns = train2.columns.str.lower()\n",
    "test2.columns = test2.columns.str.lower()"
   ]
  },
  {
   "cell_type": "code",
   "execution_count": 29,
   "id": "3f9dc140",
   "metadata": {},
   "outputs": [],
   "source": [
    "import findspark\n",
    "import pyspark\n",
    "from pyspark.sql import SparkSession\n",
    "from pyspark.ml import Pipeline\n",
    "from pyspark.ml.tuning import ParamGridBuilder, CrossValidator\n",
    "from pyspark.ml.feature import VectorAssembler\n",
    "from pyspark.ml.classification import LogisticRegression, DecisionTreeClassifier, \\\n",
    "NaiveBayes, RandomForestClassifier\n",
    "from pyspark.ml.evaluation import MulticlassClassificationEvaluator"
   ]
  },
  {
   "cell_type": "markdown",
   "id": "5d222e23",
   "metadata": {},
   "source": [
    "The evaluation criteria for model performance is the F1 score."
   ]
  },
  {
   "cell_type": "code",
   "execution_count": 30,
   "id": "ef6ac0b9",
   "metadata": {},
   "outputs": [
    {
     "name": "stderr",
     "output_type": "stream",
     "text": [
      "22/10/21 00:06:51 WARN Utils: Your hostname, TSAIdeMacBook-Pro.local resolves to a loopback address: 127.0.0.1; using 10.19.93.159 instead (on interface en0)\n",
      "22/10/21 00:06:51 WARN Utils: Set SPARK_LOCAL_IP if you need to bind to another address\n",
      "WARNING: An illegal reflective access operation has occurred\n",
      "WARNING: Illegal reflective access by org.apache.spark.unsafe.Platform (file:/Users/tsaichao-yi/opt/anaconda3/lib/python3.9/site-packages/pyspark/jars/spark-unsafe_2.12-3.1.2.jar) to constructor java.nio.DirectByteBuffer(long,int)\n",
      "WARNING: Please consider reporting this to the maintainers of org.apache.spark.unsafe.Platform\n",
      "WARNING: Use --illegal-access=warn to enable warnings of further illegal reflective access operations\n",
      "WARNING: All illegal access operations will be denied in a future release\n",
      "22/10/21 00:06:52 WARN NativeCodeLoader: Unable to load native-hadoop library for your platform... using builtin-java classes where applicable\n",
      "Using Spark's default log4j profile: org/apache/spark/log4j-defaults.properties\n",
      "Setting default log level to \"WARN\".\n",
      "To adjust logging level use sc.setLogLevel(newLevel). For SparkR, use setLogLevel(newLevel).\n"
     ]
    }
   ],
   "source": [
    "findspark.init()\n",
    "spark = SparkSession.builder \\\n",
    ".appName('app_name') \\\n",
    ".master('local[*]') \\\n",
    ".config('spark.sql.execution.arrow.pyspark.enabled', True) \\\n",
    ".config('spark.sql.session.timeZone', 'UTC') \\\n",
    ".config('spark.driver.memory','32G') \\\n",
    ".config('spark.ui.showConsoleProgress', True) \\\n",
    ".config('spark.sql.repl.eagerEval.enabled', True) \\\n",
    ".getOrCreate()\n",
    "spark.sparkContext.setLogLevel(\"ERROR\")\n",
    "train_spark = spark.createDataFrame(train2)\n",
    "train_spark.createOrReplaceTempView('train_spark')\n",
    "test_spark = spark.createDataFrame(test2)\n",
    "test_spark.createOrReplaceTempView('test_spark')\n",
    "evaluator = MulticlassClassificationEvaluator(predictionCol='prediction') "
   ]
  },
  {
   "cell_type": "markdown",
   "id": "44c104ec",
   "metadata": {},
   "source": [
    "I only aggregated all the covariates in the feature column using VectorAssembler, as other data preprocessing procedures were completed using the Pandas package. This is why there is only one element in the Pipeline list."
   ]
  },
  {
   "cell_type": "code",
   "execution_count": 31,
   "id": "2bbe8845",
   "metadata": {},
   "outputs": [],
   "source": [
    "Cols = [col for col in train_spark.columns if col != 'label']\n",
    "stage1 = VectorAssembler(inputCols=Cols, outputCol= 'features')\n",
    "pipeline = Pipeline(stages=[stage1])\n",
    "train = pipeline.fit(train_spark).transform(train_spark)\n",
    "test = pipeline.fit(test_spark).transform(test_spark)"
   ]
  },
  {
   "cell_type": "markdown",
   "id": "b8e4332b",
   "metadata": {},
   "source": [
    "Since the data set is large, it is time-consuming to run a 10-fold cross-validation. Hence, only 5-fold was used here. The number of trees to train are two hyperparameters to tune in random forest."
   ]
  },
  {
   "cell_type": "code",
   "execution_count": 32,
   "id": "8d0c2fe2",
   "metadata": {
    "scrolled": true
   },
   "outputs": [
    {
     "name": "stderr",
     "output_type": "stream",
     "text": [
      "                                                                                \r"
     ]
    }
   ],
   "source": [
    "rf = RandomForestClassifier(featuresCol = 'features', labelCol = 'label', seed = 0)\n",
    "paramGrid= (ParamGridBuilder()\n",
    "           .addGrid(rf.numTrees, [4, 5, 6])\n",
    "           .build())\n",
    "cv = CrossValidator(estimator=rf, estimatorParamMaps=paramGrid, \n",
    "                   evaluator=evaluator, numFolds=5)\n",
    "cvModel1 = cv.fit(train)\n",
    "pred1 = cvModel1.transform(test)"
   ]
  },
  {
   "cell_type": "markdown",
   "id": "b5abe74c",
   "metadata": {},
   "source": [
    "The only hyperparameter I tune in logistic regression is the elasticNet mixing parameter."
   ]
  },
  {
   "cell_type": "code",
   "execution_count": 33,
   "id": "c1cb78e1",
   "metadata": {},
   "outputs": [
    {
     "name": "stderr",
     "output_type": "stream",
     "text": [
      "                                                                                \r"
     ]
    }
   ],
   "source": [
    "lr = LogisticRegression(featuresCol = 'features', labelCol = 'label', family='multinomial')\n",
    "paramGrid = (ParamGridBuilder()\n",
    "           .addGrid(lr.elasticNetParam, [0, 0.5])\n",
    "           .build())\n",
    "cv = CrossValidator(estimator=lr, estimatorParamMaps=paramGrid, \n",
    "                   evaluator=evaluator, numFolds=5)\n",
    "cvModel2 = cv.fit(train)\n",
    "pred2 = cvModel2.transform(test)"
   ]
  },
  {
   "cell_type": "markdown",
   "id": "49fb4355",
   "metadata": {},
   "source": [
    "The maximum depth of the tree for the decision tree is the only hyperparameter to tune. "
   ]
  },
  {
   "cell_type": "code",
   "execution_count": 34,
   "id": "2e9d88e4",
   "metadata": {},
   "outputs": [
    {
     "name": "stderr",
     "output_type": "stream",
     "text": [
      "                                                                                \r"
     ]
    }
   ],
   "source": [
    "dt = DecisionTreeClassifier(featuresCol = 'features', labelCol = 'label', seed = 0)\n",
    "paramGrid= (ParamGridBuilder()\n",
    "            .addGrid(dt.maxDepth, [14, 15, 16])\n",
    "           .build())\n",
    "cv = CrossValidator(estimator=dt, estimatorParamMaps=paramGrid, \n",
    "                   evaluator=evaluator, numFolds=5)\n",
    "cvModel3 = cv.fit(train)\n",
    "pred3 = cvModel3.transform(test) "
   ]
  },
  {
   "cell_type": "markdown",
   "id": "7f60fe56",
   "metadata": {},
   "source": [
    "I only tune the smoothing parameter in the Naive Bayes method."
   ]
  },
  {
   "cell_type": "code",
   "execution_count": 35,
   "id": "e9804cbe",
   "metadata": {
    "scrolled": true
   },
   "outputs": [
    {
     "name": "stderr",
     "output_type": "stream",
     "text": [
      "                                                                                \r"
     ]
    }
   ],
   "source": [
    "nb = NaiveBayes(featuresCol = 'features', labelCol = 'label', modelType='multinomial')\n",
    "paramGrid= (ParamGridBuilder()\n",
    "           .addGrid(nb.smoothing, [0, 0.3, 0.5])\n",
    "           .build())\n",
    "cv = CrossValidator(estimator=nb, estimatorParamMaps=paramGrid, \n",
    "                   evaluator=evaluator, numFolds=5)\n",
    "cvModel4 = cv.fit(train)\n",
    "pred4 = cvModel4.transform(test)"
   ]
  },
  {
   "cell_type": "markdown",
   "id": "730e1e2d",
   "metadata": {},
   "source": [
    "The usage of the following functions and class is to assist in searching for the best model and its parameters setting."
   ]
  },
  {
   "cell_type": "code",
   "execution_count": 41,
   "id": "6f3b3de4",
   "metadata": {},
   "outputs": [],
   "source": [
    "#https://stackoverflow.com/questions/45420112/cross-validation-in-pyspark\n",
    "eval_f1 = MulticlassClassificationEvaluator(metricName=\"f1\")\n",
    "eval_log = MulticlassClassificationEvaluator(metricName=\"logLoss\")\n",
    "f1_1 = eval_f1.evaluate(cvModel1.transform(test)) \n",
    "log1 = eval_log.evaluate(cvModel1.transform(test))\n",
    "f1_2 = eval_f1.evaluate(cvModel2.transform(test)) \n",
    "log2 = eval_log.evaluate(cvModel2.transform(test))\n",
    "f1_3 = eval_f1.evaluate(cvModel3.transform(test)) \n",
    "log3 = eval_log.evaluate(cvModel3.transform(test))\n",
    "f1_4 = eval_f1.evaluate(cvModel4.transform(test)) \n",
    "#log4 = eval_log.evaluate(cvModel4.transform(test))"
   ]
  },
  {
   "cell_type": "code",
   "execution_count": 37,
   "id": "c84fc4da",
   "metadata": {},
   "outputs": [],
   "source": [
    "#https://stackoverflow.com/questions/52847408/pyspark-extract-roc-curve\n",
    "class CurveMetrics(BinaryClassificationMetrics):\n",
    "    def __init__(self, *args):\n",
    "        super(CurveMetrics, self).__init__(*args)\n",
    "\n",
    "    def _to_list(self, rdd):\n",
    "        points = []\n",
    "        for row in rdd.collect():\n",
    "            points += [(float(row._1()), float(row._2()))]\n",
    "        return points\n",
    "\n",
    "    def get_curve(self, method):\n",
    "        rdd = getattr(self._java_model, method)().toJavaRDD()\n",
    "        return self._to_list(rdd)\n",
    "def detail(pred):\n",
    "    preds = pred.select('label','probability').rdd.map(lambda row: (float(row['probability'][1]), float(row['label'])))\n",
    "    points = CurveMetrics(preds).get_curve('roc')\n",
    "    x_val = [x[0] for x in points]\n",
    "    y_val = [x[1] for x in points]\n",
    "    return x_val, y_val\n",
    "def integrate(x, y):\n",
    "   sm = 0\n",
    "   for i in range(1, len(x)):\n",
    "       h = x[i] - x[i-1]\n",
    "       sm += h * (y[i-1] + y[i]) / 2\n",
    "   return sm\n",
    "def acc(forecast):\n",
    "    return evaluator.evaluate(forecast)"
   ]
  },
  {
   "cell_type": "code",
   "execution_count": 38,
   "id": "1b935c65",
   "metadata": {},
   "outputs": [
    {
     "name": "stderr",
     "output_type": "stream",
     "text": [
      "                                                                                \r"
     ]
    }
   ],
   "source": [
    "d1 = detail(pred1)\n",
    "d2 = detail(pred2)\n",
    "d3 = detail(pred3)\n",
    "d4 = detail(pred4)"
   ]
  },
  {
   "cell_type": "markdown",
   "id": "1aebc7b4",
   "metadata": {},
   "source": [
    "Though the ROC curve is mostly used for a binary outcome, I also drew one to compare the difference between each approach. The following plot indicates that logistic regression outperforms other models, while the random forest is the worst choice. The performance of naive Bayes is the same as the decision tree. We can confirm which is better from the following table by calculating the area under the curve (AUC)."
   ]
  },
  {
   "cell_type": "code",
   "execution_count": 39,
   "id": "b351864f",
   "metadata": {},
   "outputs": [
    {
     "data": {
      "image/png": "[encoded data removed]",
      "text/plain": [
       "<Figure size 640x480 with 1 Axes>"
      ]
     },
     "metadata": {},
     "output_type": "display_data"
    }
   ],
   "source": [
    "plt.title('ROC Curve')\n",
    "plt.plot(d1[0], d1[1], color = 'm', label = 'Random Forest')\n",
    "plt.plot(d2[0], d2[1], color = 'c', label = 'Logistic Regression')\n",
    "plt.plot(d3[0], d3[1], color = 'r', label = 'Decision Tree')\n",
    "plt.plot(d4[0], d4[1], color = 'g', label = 'Naive Bayes')\n",
    "plt.xlabel('False Positive Rate')\n",
    "plt.ylabel('True Positive Rate')\n",
    "plt.legend(loc='best')\n",
    "plt.show()"
   ]
  },
  {
   "cell_type": "markdown",
   "id": "be9378f9",
   "metadata": {},
   "source": [
    "The table below indicates that the logistic regression has the highest accuracy and the largest AUC, reaching 0.73 and 0.71, respectively. The decision tree is also a competitive candidate. Generally speaking, except for the Naive Bayes, all models perform well-considering accuracy and F1 score since their values are about 0.7. The probable reason why Naive Bayes has a poor forecast capability is that it assumes each feature makes an independent and equal contribution to the outcome. However, this condition is not met in our case, as some attributes may be more prominent than others. The tree-based methods work well because, from my guess, I did not normalize the variables before training, and these methods can tolerate the considerable difference between the scale of variables."
   ]
  },
  {
   "cell_type": "code",
   "execution_count": 42,
   "id": "bfbd1236",
   "metadata": {
    "scrolled": true
   },
   "outputs": [
    {
     "name": "stderr",
     "output_type": "stream",
     "text": [
      "                                                                                \r"
     ]
    },
    {
     "data": {
      "text/html": [
       "<div>\n",
       "<style scoped>\n",
       "    .dataframe tbody tr th:only-of-type {\n",
       "        vertical-align: middle;\n",
       "    }\n",
       "\n",
       "    .dataframe tbody tr th {\n",
       "        vertical-align: top;\n",
       "    }\n",
       "\n",
       "    .dataframe thead th {\n",
       "        text-align: right;\n",
       "    }\n",
       "</style>\n",
       "<table border=\"1\" class=\"dataframe\">\n",
       "  <thead>\n",
       "    <tr style=\"text-align: right;\">\n",
       "      <th></th>\n",
       "      <th>Models</th>\n",
       "      <th>Accuracy</th>\n",
       "      <th>Area Under ROC</th>\n",
       "      <th>F1</th>\n",
       "      <th>Log Loss</th>\n",
       "    </tr>\n",
       "  </thead>\n",
       "  <tbody>\n",
       "    <tr>\n",
       "      <th>0</th>\n",
       "      <td>Random Forest</td>\n",
       "      <td>0.711224</td>\n",
       "      <td>0.336048</td>\n",
       "      <td>0.711224</td>\n",
       "      <td>0.818864</td>\n",
       "    </tr>\n",
       "    <tr>\n",
       "      <th>1</th>\n",
       "      <td>Logistic Regression</td>\n",
       "      <td>0.735590</td>\n",
       "      <td>0.723520</td>\n",
       "      <td>0.735590</td>\n",
       "      <td>0.768441</td>\n",
       "    </tr>\n",
       "    <tr>\n",
       "      <th>2</th>\n",
       "      <td>Decision Tree</td>\n",
       "      <td>0.732070</td>\n",
       "      <td>0.500023</td>\n",
       "      <td>0.732070</td>\n",
       "      <td>2.436073</td>\n",
       "    </tr>\n",
       "    <tr>\n",
       "      <th>3</th>\n",
       "      <td>Naive Bayes</td>\n",
       "      <td>0.046466</td>\n",
       "      <td>0.499590</td>\n",
       "      <td>0.046466</td>\n",
       "      <td>NA</td>\n",
       "    </tr>\n",
       "  </tbody>\n",
       "</table>\n",
       "</div>"
      ],
      "text/plain": [
       "                Models  Accuracy  Area Under ROC        F1  Log Loss\n",
       "0        Random Forest  0.711224        0.336048  0.711224  0.818864\n",
       "1  Logistic Regression  0.735590        0.723520  0.735590  0.768441\n",
       "2        Decision Tree  0.732070        0.500023  0.732070  2.436073\n",
       "3          Naive Bayes  0.046466        0.499590  0.046466        NA"
      ]
     },
     "execution_count": 42,
     "metadata": {},
     "output_type": "execute_result"
    }
   ],
   "source": [
    "accuracy = pd.DataFrame({\n",
    "  'Models': ['Random Forest', 'Logistic Regression', 'Decision Tree', 'Naive Bayes'],\n",
    "  'Accuracy': [acc(pred1), acc(pred2), acc(pred3), acc(pred4)],\n",
    "  'Area Under ROC': [integrate(d1[0], d1[1]), integrate(d2[0], d2[1]),\n",
    "                     integrate(d3[0], d3[1]), integrate(d4[0], d4[1])],\n",
    "   'F1': [f1_1, f1_2, f1_3, f1_4],\n",
    "   'Log Loss': [log1, log2, log3, 'NA']\n",
    "})\n",
    "accuracy"
   ]
  },
  {
   "cell_type": "markdown",
   "id": "5ef2f17e",
   "metadata": {},
   "source": [
    "For the best model, the maximum number of bins for discretizing continuous features should be 30."
   ]
  },
  {
   "cell_type": "code",
   "execution_count": null,
   "id": "d6e34113",
   "metadata": {},
   "outputs": [],
   "source": []
  }
 ],
 "metadata": {
  "kernelspec": {
   "display_name": "Python 3 (ipykernel)",
   "language": "python",
   "name": "python3"
  },
  "language_info": {
   "codemirror_mode": {
    "name": "ipython",
    "version": 3
   },
   "file_extension": ".py",
   "mimetype": "text/x-python",
   "name": "python",
   "nbconvert_exporter": "python",
   "pygments_lexer": "ipython3",
   "version": "3.9.13"
  }
 },
 "nbformat": 4,
 "nbformat_minor": 5
}
