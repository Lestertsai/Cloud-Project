{
 "cells": [
  {
   "cell_type": "code",
   "execution_count": 1,
   "id": "6cbfd003",
   "metadata": {},
   "outputs": [],
   "source": [
    "import pyspark\n",
    "import pyspark.sql.functions as F\n",
    "from pyspark.sql.types import IntegerType\n",
    "from pyspark.sql import SparkSession\n",
    "#spark = SparkSession.builder.getOrCreate()\n",
    "spark = SparkSession \\\n",
    ".builder \\\n",
    ".appName(\"Python Spark SQL basic example\") \\\n",
    ".config(\"spark.memory.fraction\", 0.8) \\\n",
    ".config(\"spark.executor.memory\", \"14g\") \\\n",
    ".config(\"spark.driver.memory\", \"12g\")\\\n",
    ".config(\"spark.sql.shuffle.partitions\" , \"8000\") \\\n",
    ".getOrCreate()"
   ]
  },
  {
   "cell_type": "code",
   "execution_count": 16,
   "id": "40f2d860",
   "metadata": {},
   "outputs": [],
   "source": [
    "df = spark.read.format(\"csv\").option(\"header\", \"true\").load(r\"C:\\Users\\User\\Downloads\\2014.csv\")"
   ]
  },
  {
   "cell_type": "code",
   "execution_count": 17,
   "id": "bef58097",
   "metadata": {},
   "outputs": [],
   "source": [
    "df=df.select([c for c in df.columns if c in {'Registration State','Plate Type','Vehicle Body Type',\n",
    "'Issuing Agency','Vehicle Make','Violation Location','Violation Precinct','Issuer Precinct',\n",
    "'Issuer Command','Violation County','Violation In Front Of Or Opposite','House Number','Street Name','Date First Observed',\n",
    "'Law Section','Vehicle Color','Sub Division','Issue Date','Street Code1','Street Code2',\n",
    "'Street Code3','Vehicle Expiration Date','Violation Time','Vehicle Year','Feet From Curb',\n",
    "'Violation Post Code'}])"
   ]
  },
  {
   "cell_type": "code",
   "execution_count": 18,
   "id": "5ad4fe16",
   "metadata": {},
   "outputs": [],
   "source": [
    "df = df.select([F.col(col).alias(col.replace(' ', '_')) for col in df.columns])"
   ]
  },
  {
   "cell_type": "code",
   "execution_count": 19,
   "id": "8de171af",
   "metadata": {},
   "outputs": [],
   "source": [
    "df=df.withColumn('Vehicle_Expiration_Month', F.substring('Vehicle_Expiration_Date',5, 2))\\\n",
    "  .withColumn('Vehicle_Expiration_Day', F.substring('Vehicle_Expiration_Date',7, 2))\\\n",
    ".withColumn('Violation_Hour', F.substring('Violation_Time',1, 2))\\\n",
    ".withColumn('Violation_Minute', F.substring('Violation_Time',3, 2))\\\n",
    ".withColumn('Issue_Month', F.substring('Issue_Date',5, 2))\\\n",
    "  .withColumn('Issue_Day', F.substring('Issue_Date',4, 2))"
   ]
  },
  {
   "cell_type": "code",
   "execution_count": 20,
   "id": "51f22a0b",
   "metadata": {},
   "outputs": [],
   "source": [
    "numeric=['Street_Code1','Street_Code2','Street_Code3','Vehicle_Expiration_Date','Violation_Time',\n",
    "         'Vehicle_Year','Feet_From_Curb','Violation_Post_Code','Vehicle_Expiration_Month',\n",
    "        'Vehicle_Expiration_Day','Violation_Hour','Violation_Minute','Issue_Month',\n",
    "        'Issue_Day']\n",
    "for n in range(len(numeric)):\n",
    "    df = df.withColumn(numeric[n], df[numeric[n]].cast(IntegerType()))"
   ]
  },
  {
   "cell_type": "code",
   "execution_count": 7,
   "id": "3d50d3e8",
   "metadata": {},
   "outputs": [
    {
     "name": "stdout",
     "output_type": "stream",
     "text": [
      "+------------------+----------+----------+-------------------+--------------------+--------------+------------+------------+------------+-----------------------+-------------------+------------------+---------------+-------------------+------------------+-------------------+---------------------------------+-------------------+--------------------+-------------------+-----------+--------------------+--------------------+--------------------+--------------------+-------------------+------------------------+----------------------+--------------------+-------------------+-----------+---------+\n",
      "|Registration_State|Plate_Type|Issue_Date|  Vehicle_Body_Type|        Vehicle_Make|Issuing_Agency|Street_Code1|Street_Code2|Street_Code3|Vehicle_Expiration_Date| Violation_Location|Violation_Precinct|Issuer_Precinct|     Issuer_Command|    Violation_Time|   Violation_County|Violation_In_Front_Of_Or_Opposite|       House_Number|         Street_Name|Date_First_Observed|Law_Section|        Sub_Division|       Vehicle_Color|        Vehicle_Year|      Feet_From_Curb|Violation_Post_Code|Vehicle_Expiration_Month|Vehicle_Expiration_Day|      Violation_Hour|   Violation_Minute|Issue_Month|Issue_Day|\n",
      "+------------------+----------+----------+-------------------+--------------------+--------------+------------+------------+------------+-----------------------+-------------------+------------------+---------------+-------------------+------------------+-------------------+---------------------------------+-------------------+--------------------+-------------------+-----------+--------------------+--------------------+--------------------+--------------------+-------------------+------------------------+----------------------+--------------------+-------------------+-----------+---------+\n",
      "|               0.0|       0.0|       0.0|0.01218292452164648|0.006942095615100989|           0.0|         0.0|         0.0|         0.0|                    0.0|0.07375269195072942|               0.0|            0.0|0.07191395691428328|0.9999983516987063|0.07749268758602759|              0.08452390135773874|0.09409789459179159|5.388846362715513E-4|                0.0|        0.0|2.703214121590571E-5|0.007960416154319682|1.098867529101858...|1.098867529101858...| 0.9702623370406926|     0.11394585967593518|   0.11394585967593518|2.282347857944559...|2.29443540076468E-4|        1.0|      0.0|\n",
      "+------------------+----------+----------+-------------------+--------------------+--------------+------------+------------+------------+-----------------------+-------------------+------------------+---------------+-------------------+------------------+-------------------+---------------------------------+-------------------+--------------------+-------------------+-----------+--------------------+--------------------+--------------------+--------------------+-------------------+------------------------+----------------------+--------------------+-------------------+-----------+---------+\n",
      "\n"
     ]
    }
   ],
   "source": [
    "from pyspark.sql.functions import *\n",
    "amount_missing_df = df.select([(count(when(isnan(c) | col(c).isNull(), c))/count(lit(1))).alias(c) for c in df.columns])\n",
    "amount_missing_df.show()"
   ]
  },
  {
   "cell_type": "code",
   "execution_count": 21,
   "id": "00cfaac4",
   "metadata": {},
   "outputs": [],
   "source": [
    "df=df.select([c for c in df.columns if c not in {'Violation_Time','Feet_From_Curb',\n",
    "                                            'Violation_Post_Code','Vehicle_Year',\n",
    "                                             'Violation_Hour','Issue_Month','Vehicle_Expiration_Date',\n",
    "                                             'Violation_Time','Issue_Date'}])"
   ]
  },
  {
   "cell_type": "code",
   "execution_count": 22,
   "id": "049fbd34",
   "metadata": {},
   "outputs": [],
   "source": [
    "gg=['Registration_State','Plate_Type','Vehicle_Body_Type','Issuing_Agency','Vehicle_Make','Violation_Location',\n",
    "   'Violation_Precinct','Issuer_Command','Violation_County','Violation_In_Front_Of_Or_Opposite',\n",
    "   'House_Number','Street_Name','Date_First_Observed','Law_Section','Vehicle_Color','Sub_Division',\n",
    "   'Issuer_Precinct']\n",
    "key= list(set(df.columns) - set(gg))"
   ]
  },
  {
   "cell_type": "code",
   "execution_count": 23,
   "id": "a870d886",
   "metadata": {},
   "outputs": [],
   "source": [
    "for i in range(len(gg)):\n",
    "    df = df.where(df[gg[i]].isNotNull())"
   ]
  },
  {
   "cell_type": "code",
   "execution_count": 24,
   "id": "8dae4c26",
   "metadata": {},
   "outputs": [],
   "source": [
    "df=df.drop(df.Violation_Minute)\n",
    "key.remove('Violation_Minute')"
   ]
  },
  {
   "cell_type": "code",
   "execution_count": 11,
   "id": "af509f67",
   "metadata": {},
   "outputs": [
    {
     "name": "stdout",
     "output_type": "stream",
     "text": [
      "(80426, 23)\n"
     ]
    }
   ],
   "source": [
    "df = df.sample(fraction=0.01, seed=3)\n",
    "print((df.count(), len(df.columns)))"
   ]
  },
  {
   "cell_type": "code",
   "execution_count": 41,
   "id": "1027732b",
   "metadata": {
    "scrolled": true
   },
   "outputs": [],
   "source": [
    "from pyspark.ml.feature import StringIndexer\n",
    "categorical = gg\n",
    "for i in range(len(categorical)):\n",
    "    indexer = StringIndexer(inputCol=categorical[i], outputCol=categorical[i]+'_Index')\n",
    "    df = indexer.fit(df).transform(df)"
   ]
  },
  {
   "cell_type": "code",
   "execution_count": 42,
   "id": "f98538bd",
   "metadata": {},
   "outputs": [],
   "source": [
    "for i in range(len(gg)):\n",
    "    df = df.drop(df[gg[i]])"
   ]
  },
  {
   "cell_type": "code",
   "execution_count": 43,
   "id": "26d7ad8e",
   "metadata": {},
   "outputs": [],
   "source": [
    "for i in range(len([\"Vehicle_Expiration_Month\", \"Vehicle_Expiration_Day\"])):\n",
    "    df = df.where(df[[\"Vehicle_Expiration_Month\", \"Vehicle_Expiration_Day\"][i]].isNotNull())"
   ]
  },
  {
   "cell_type": "code",
   "execution_count": 15,
   "id": "2db674e3",
   "metadata": {},
   "outputs": [],
   "source": [
    "# Do not run\n",
    "from pyspark.ml.feature import *\n",
    "categorical = [cc +'_Index' for cc in gg]\n",
    "for i in range(len(categorical)):\n",
    "    encoder = OneHotEncoder(inputCol=categorical[i], outputCol=categorical[i]+'_Encoded')\n",
    "    df = encoder.fit(df).transform(df)"
   ]
  },
  {
   "cell_type": "code",
   "execution_count": 44,
   "id": "f22d6417",
   "metadata": {},
   "outputs": [],
   "source": [
    "from pyspark.ml.linalg import Vectors, VectorUDT\n",
    "from pyspark.sql.functions import udf\n",
    "list_to_vector_udf = udf(lambda l: Vectors.dense(l), VectorUDT())\n",
    "for i in range(len(df.drop('Registration_State_Index').columns)):\n",
    "    df = df.withColumn(df.drop('Registration_State_Index').columns[i], \n",
    "                       list_to_vector_udf(df.drop('Registration_State_Index').columns[i]))"
   ]
  },
  {
   "cell_type": "code",
   "execution_count": 45,
   "id": "f144b57b",
   "metadata": {},
   "outputs": [],
   "source": [
    "#https://stackoverflow.com/questions/65929680/what-data-type-does-vectorassembler-require-for-an-input\n",
    "from pyspark.ml.linalg import Vectors\n",
    "from pyspark.ml.feature import VectorAssembler\n",
    "vecAssembler = VectorAssembler(outputCol=\"features\", inputCols=\n",
    "                              [x for x in [cc +'_Index' for cc in gg]+key if x != 'Registration_State_Index'])\n",
    "df1=vecAssembler.transform(df)"
   ]
  },
  {
   "cell_type": "code",
   "execution_count": 46,
   "id": "0c8100b5",
   "metadata": {},
   "outputs": [],
   "source": [
    "from pyspark.ml.feature import StringIndexer\n",
    "label_Indexer = StringIndexer()\\\n",
    "                .setInputCol('Registration_State_Index')\\\n",
    "                .setOutputCol('label')\n",
    "df1 = label_Indexer.fit(df1).transform(df1) "
   ]
  },
  {
   "cell_type": "code",
   "execution_count": 47,
   "id": "1e4ba2df",
   "metadata": {},
   "outputs": [],
   "source": [
    "from pyspark.ml.feature import StandardScaler\n",
    "scaler=StandardScaler()\\\n",
    "       .setInputCol('features')\\\n",
    "       .setOutputCol('final_features')\n",
    "df2=scaler.fit(df1).transform(df1)"
   ]
  },
  {
   "cell_type": "code",
   "execution_count": 48,
   "id": "a7ef83fe",
   "metadata": {},
   "outputs": [],
   "source": [
    "train, test = df2.randomSplit([0.8, 0.2], seed=2021)"
   ]
  },
  {
   "cell_type": "code",
   "execution_count": null,
   "id": "1a6137db",
   "metadata": {},
   "outputs": [],
   "source": [
    "from pyspark.ml.classification import LogisticRegression\n",
    "lr = LogisticRegression(featuresCol='final_features',labelCol='Registration_State_Index',maxIter=10, regParam=0.3, elasticNetParam=0.8, family=\"multinomial\")\n",
    "lrModel = lr.fit(train)\n",
    "perdiction=lrModel.transform(test)"
   ]
  },
  {
   "cell_type": "code",
   "execution_count": null,
   "id": "60d269b6",
   "metadata": {},
   "outputs": [],
   "source": [
    "perdiction.show(1)"
   ]
  },
  {
   "cell_type": "code",
   "execution_count": null,
   "id": "1b58705f",
   "metadata": {},
   "outputs": [],
   "source": [
    "from pyspark.ml.evaluation import MulticlassClassificationEvaluator\n",
    "evaluator = MulticlassClassificationEvaluator()\n",
    "print('Test area under ROC', evaluator.evaluate(perdiction))"
   ]
  },
  {
   "cell_type": "code",
   "execution_count": null,
   "id": "8a43bb3c",
   "metadata": {},
   "outputs": [],
   "source": [
    "accuracy = perdiction.filter(perdiction.Vehicle_Color_Index == perdiction.prediction).count() / float(perdiction.count())"
   ]
  },
  {
   "cell_type": "code",
   "execution_count": 22,
   "id": "0ad823d5",
   "metadata": {},
   "outputs": [
    {
     "data": {
      "text/plain": [
       "0.16056889100566088"
      ]
     },
     "execution_count": 22,
     "metadata": {},
     "output_type": "execute_result"
    }
   ],
   "source": [
    "accuracy"
   ]
  },
  {
   "cell_type": "code",
   "execution_count": null,
   "id": "eca227b3",
   "metadata": {},
   "outputs": [],
   "source": [
    "from pyspark.ml.tuning import ParamGridBuilder, CrossValidator\n",
    "paramGrid= (ParamGridBuilder()\n",
    "           .addGrid(lr.regParam, [0.01, 0.5, 2.0])\n",
    "           .addGrid(lr.elasticNetParam, [0.0, 0.5, 1.0])\n",
    "           .addGrid(lr.maxIter, [1, 5, 10])\n",
    "           .build())\n",
    "cv = CrossValidator(estimator=lr, estimatorParamMaps=paramGrid, \n",
    "                   evaluator=evaluator, numFolds=3)\n",
    "cvModel = cv.fit(train)"
   ]
  },
  {
   "cell_type": "code",
   "execution_count": null,
   "id": "a5cd1fb8",
   "metadata": {},
   "outputs": [],
   "source": [
    "predictions = cvModel.transform(test)\n",
    "print('Best Model Test Area Under ROC', evaluator.evaluate(predictions))"
   ]
  },
  {
   "cell_type": "code",
   "execution_count": null,
   "id": "b3f5221c",
   "metadata": {},
   "outputs": [],
   "source": [
    "weights = cvModel.bestModel.coefficients\n",
    "weights = [(float(w), ) for w in weights]\n",
    "weightsDF = sqlContext.createDataFrame(weights, ['Feature Weight'])\n",
    "weightsDF.show(10)"
   ]
  },
  {
   "cell_type": "code",
   "execution_count": null,
   "id": "628ebf05",
   "metadata": {},
   "outputs": [],
   "source": [
    "best_model = cvModel.bestModel\n",
    "print('Best Param (regParam):', best_model.java_obj.getRegParam())\n",
    "print('Best Param (MaxIter):', best_model.java_obj.getMaxIter())\n",
    "print('Best Param (elasticNetParam):', best_model.java_obj.getElasticNetParam())"
   ]
  },
  {
   "cell_type": "code",
   "execution_count": null,
   "id": "e9c1206a",
   "metadata": {},
   "outputs": [],
   "source": []
  }
 ],
 "metadata": {
  "kernelspec": {
   "display_name": "Python 3",
   "language": "python",
   "name": "python3"
  },
  "language_info": {
   "codemirror_mode": {
    "name": "ipython",
    "version": 3
   },
   "file_extension": ".py",
   "mimetype": "text/x-python",
   "name": "python",
   "nbconvert_exporter": "python",
   "pygments_lexer": "ipython3",
   "version": "3.8.8"
  }
 },
 "nbformat": 4,
 "nbformat_minor": 5
}
